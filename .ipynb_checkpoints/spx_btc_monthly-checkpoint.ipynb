{
 "cells": [
  {
   "cell_type": "code",
   "execution_count": 1,
   "id": "943302f7-53d2-41c5-abce-7a4e778a96fa",
   "metadata": {},
   "outputs": [],
   "source": [
    "import pandas as pd\n",
    "import numpy as np"
   ]
  },
  {
   "cell_type": "code",
   "execution_count": 15,
   "id": "c83f8e51-9393-4d0e-9b88-37ad82e8a2bf",
   "metadata": {},
   "outputs": [],
   "source": [
    "btc_prices = pd.read_csv(\"data/btc_monthly_5years.csv\", header=0, index_col=0, parse_dates=True)"
   ]
  },
  {
   "cell_type": "code",
   "execution_count": 16,
   "id": "132dd1af-6d66-458c-b8be-4c07be3131c1",
   "metadata": {},
   "outputs": [],
   "source": [
    "spx_prices = pd.read_csv(\"data/spx_monthly_5years.csv\", header=0, index_col=0, parse_dates=True)"
   ]
  },
  {
   "cell_type": "code",
   "execution_count": 17,
   "id": "7706f661-bffc-41bb-b6ef-37625afc6412",
   "metadata": {},
   "outputs": [
    {
     "data": {
      "text/html": [
       "<div>\n",
       "<style scoped>\n",
       "    .dataframe tbody tr th:only-of-type {\n",
       "        vertical-align: middle;\n",
       "    }\n",
       "\n",
       "    .dataframe tbody tr th {\n",
       "        vertical-align: top;\n",
       "    }\n",
       "\n",
       "    .dataframe thead th {\n",
       "        text-align: right;\n",
       "    }\n",
       "</style>\n",
       "<table border=\"1\" class=\"dataframe\">\n",
       "  <thead>\n",
       "    <tr style=\"text-align: right;\">\n",
       "      <th></th>\n",
       "      <th>Open</th>\n",
       "      <th>High</th>\n",
       "      <th>Low</th>\n",
       "      <th>Close</th>\n",
       "      <th>Adj Close</th>\n",
       "      <th>Volume</th>\n",
       "    </tr>\n",
       "    <tr>\n",
       "      <th>Date</th>\n",
       "      <th></th>\n",
       "      <th></th>\n",
       "      <th></th>\n",
       "      <th></th>\n",
       "      <th></th>\n",
       "      <th></th>\n",
       "    </tr>\n",
       "  </thead>\n",
       "  <tbody>\n",
       "    <tr>\n",
       "      <th>2018-11-01</th>\n",
       "      <td>6318.140137</td>\n",
       "      <td>6552.160156</td>\n",
       "      <td>3585.060059</td>\n",
       "      <td>4017.268555</td>\n",
       "      <td>4017.268555</td>\n",
       "      <td>158359524484</td>\n",
       "    </tr>\n",
       "    <tr>\n",
       "      <th>2018-12-01</th>\n",
       "      <td>4024.464355</td>\n",
       "      <td>4309.377441</td>\n",
       "      <td>3191.303467</td>\n",
       "      <td>3742.700439</td>\n",
       "      <td>3742.700439</td>\n",
       "      <td>168826809069</td>\n",
       "    </tr>\n",
       "    <tr>\n",
       "      <th>2019-01-01</th>\n",
       "      <td>3746.713379</td>\n",
       "      <td>4109.020996</td>\n",
       "      <td>3400.819824</td>\n",
       "      <td>3457.792725</td>\n",
       "      <td>3457.792725</td>\n",
       "      <td>167335706864</td>\n",
       "    </tr>\n",
       "    <tr>\n",
       "      <th>2019-02-01</th>\n",
       "      <td>3460.547119</td>\n",
       "      <td>4210.641602</td>\n",
       "      <td>3391.023682</td>\n",
       "      <td>3854.785400</td>\n",
       "      <td>3854.785400</td>\n",
       "      <td>199100675597</td>\n",
       "    </tr>\n",
       "    <tr>\n",
       "      <th>2019-03-01</th>\n",
       "      <td>3853.757080</td>\n",
       "      <td>4296.806641</td>\n",
       "      <td>3733.749756</td>\n",
       "      <td>4105.404297</td>\n",
       "      <td>4105.404297</td>\n",
       "      <td>297952790260</td>\n",
       "    </tr>\n",
       "  </tbody>\n",
       "</table>\n",
       "</div>"
      ],
      "text/plain": [
       "                   Open         High          Low        Close    Adj Close  \\\n",
       "Date                                                                          \n",
       "2018-11-01  6318.140137  6552.160156  3585.060059  4017.268555  4017.268555   \n",
       "2018-12-01  4024.464355  4309.377441  3191.303467  3742.700439  3742.700439   \n",
       "2019-01-01  3746.713379  4109.020996  3400.819824  3457.792725  3457.792725   \n",
       "2019-02-01  3460.547119  4210.641602  3391.023682  3854.785400  3854.785400   \n",
       "2019-03-01  3853.757080  4296.806641  3733.749756  4105.404297  4105.404297   \n",
       "\n",
       "                  Volume  \n",
       "Date                      \n",
       "2018-11-01  158359524484  \n",
       "2018-12-01  168826809069  \n",
       "2019-01-01  167335706864  \n",
       "2019-02-01  199100675597  \n",
       "2019-03-01  297952790260  "
      ]
     },
     "execution_count": 17,
     "metadata": {},
     "output_type": "execute_result"
    }
   ],
   "source": [
    "btc_prices.head()"
   ]
  },
  {
   "cell_type": "code",
   "execution_count": 18,
   "id": "b3c98732-8f4d-42bc-b63e-a726ca5fd0f1",
   "metadata": {},
   "outputs": [
    {
     "data": {
      "text/html": [
       "<div>\n",
       "<style scoped>\n",
       "    .dataframe tbody tr th:only-of-type {\n",
       "        vertical-align: middle;\n",
       "    }\n",
       "\n",
       "    .dataframe tbody tr th {\n",
       "        vertical-align: top;\n",
       "    }\n",
       "\n",
       "    .dataframe thead th {\n",
       "        text-align: right;\n",
       "    }\n",
       "</style>\n",
       "<table border=\"1\" class=\"dataframe\">\n",
       "  <thead>\n",
       "    <tr style=\"text-align: right;\">\n",
       "      <th></th>\n",
       "      <th>Open</th>\n",
       "      <th>High</th>\n",
       "      <th>Low</th>\n",
       "      <th>Close</th>\n",
       "      <th>Adj Close</th>\n",
       "      <th>Volume</th>\n",
       "    </tr>\n",
       "    <tr>\n",
       "      <th>Date</th>\n",
       "      <th></th>\n",
       "      <th></th>\n",
       "      <th></th>\n",
       "      <th></th>\n",
       "      <th></th>\n",
       "      <th></th>\n",
       "    </tr>\n",
       "  </thead>\n",
       "  <tbody>\n",
       "    <tr>\n",
       "      <th>2018-11-01</th>\n",
       "      <td>2717.580078</td>\n",
       "      <td>2815.149902</td>\n",
       "      <td>2631.090088</td>\n",
       "      <td>2760.169922</td>\n",
       "      <td>2760.169922</td>\n",
       "      <td>80620020000</td>\n",
       "    </tr>\n",
       "    <tr>\n",
       "      <th>2018-12-01</th>\n",
       "      <td>2790.500000</td>\n",
       "      <td>2800.179932</td>\n",
       "      <td>2346.580078</td>\n",
       "      <td>2506.850098</td>\n",
       "      <td>2506.850098</td>\n",
       "      <td>84162180000</td>\n",
       "    </tr>\n",
       "    <tr>\n",
       "      <th>2019-01-01</th>\n",
       "      <td>2476.959961</td>\n",
       "      <td>2708.949951</td>\n",
       "      <td>2443.959961</td>\n",
       "      <td>2704.100098</td>\n",
       "      <td>2704.100098</td>\n",
       "      <td>80859870000</td>\n",
       "    </tr>\n",
       "    <tr>\n",
       "      <th>2019-02-01</th>\n",
       "      <td>2702.320068</td>\n",
       "      <td>2813.489990</td>\n",
       "      <td>2681.830078</td>\n",
       "      <td>2784.489990</td>\n",
       "      <td>2784.489990</td>\n",
       "      <td>70638770000</td>\n",
       "    </tr>\n",
       "    <tr>\n",
       "      <th>2019-03-01</th>\n",
       "      <td>2798.219971</td>\n",
       "      <td>2860.310059</td>\n",
       "      <td>2722.270020</td>\n",
       "      <td>2834.399902</td>\n",
       "      <td>2834.399902</td>\n",
       "      <td>79159660000</td>\n",
       "    </tr>\n",
       "  </tbody>\n",
       "</table>\n",
       "</div>"
      ],
      "text/plain": [
       "                   Open         High          Low        Close    Adj Close  \\\n",
       "Date                                                                          \n",
       "2018-11-01  2717.580078  2815.149902  2631.090088  2760.169922  2760.169922   \n",
       "2018-12-01  2790.500000  2800.179932  2346.580078  2506.850098  2506.850098   \n",
       "2019-01-01  2476.959961  2708.949951  2443.959961  2704.100098  2704.100098   \n",
       "2019-02-01  2702.320068  2813.489990  2681.830078  2784.489990  2784.489990   \n",
       "2019-03-01  2798.219971  2860.310059  2722.270020  2834.399902  2834.399902   \n",
       "\n",
       "                 Volume  \n",
       "Date                     \n",
       "2018-11-01  80620020000  \n",
       "2018-12-01  84162180000  \n",
       "2019-01-01  80859870000  \n",
       "2019-02-01  70638770000  \n",
       "2019-03-01  79159660000  "
      ]
     },
     "execution_count": 18,
     "metadata": {},
     "output_type": "execute_result"
    }
   ],
   "source": [
    "spx_prices.head()"
   ]
  },
  {
   "cell_type": "code",
   "execution_count": 19,
   "id": "5330315a-aba6-4a9f-8bd2-e00686d1a4a1",
   "metadata": {},
   "outputs": [
    {
     "data": {
      "text/plain": [
       "(Date\n",
       " 2018-11-01    2760.169922\n",
       " 2018-12-01    2506.850098\n",
       " 2019-01-01    2704.100098\n",
       " 2019-02-01    2784.489990\n",
       " 2019-03-01    2834.399902\n",
       " Name: Close, dtype: float64,\n",
       " Date\n",
       " 2018-11-01    4017.268555\n",
       " 2018-12-01    3742.700439\n",
       " 2019-01-01    3457.792725\n",
       " 2019-02-01    3854.785400\n",
       " 2019-03-01    4105.404297\n",
       " Name: Close, dtype: float64)"
      ]
     },
     "execution_count": 19,
     "metadata": {},
     "output_type": "execute_result"
    }
   ],
   "source": [
    "spx_close = spx_prices['Close']\n",
    "btc_close = btc_prices['Close']\n",
    "spx_close.head(), btc_close.head()"
   ]
  },
  {
   "cell_type": "code",
   "execution_count": 20,
   "id": "8efbbe62-c3d8-44e5-8de3-f252f05bb43d",
   "metadata": {},
   "outputs": [],
   "source": [
    "prices = pd.concat([btc_close, spx_close], axis=1)"
   ]
  },
  {
   "cell_type": "code",
   "execution_count": 22,
   "id": "72d394eb-7d5a-463f-9d8f-9ab9e8b9893e",
   "metadata": {},
   "outputs": [],
   "source": [
    "prices.columns = ['BTC', 'SPX']"
   ]
  },
  {
   "cell_type": "code",
   "execution_count": 33,
   "id": "6e5e4a94-3acf-4b11-ac5c-9c69787cca6b",
   "metadata": {},
   "outputs": [
    {
     "data": {
      "text/html": [
       "<div>\n",
       "<style scoped>\n",
       "    .dataframe tbody tr th:only-of-type {\n",
       "        vertical-align: middle;\n",
       "    }\n",
       "\n",
       "    .dataframe tbody tr th {\n",
       "        vertical-align: top;\n",
       "    }\n",
       "\n",
       "    .dataframe thead th {\n",
       "        text-align: right;\n",
       "    }\n",
       "</style>\n",
       "<table border=\"1\" class=\"dataframe\">\n",
       "  <thead>\n",
       "    <tr style=\"text-align: right;\">\n",
       "      <th></th>\n",
       "      <th>BTC</th>\n",
       "      <th>SPX</th>\n",
       "    </tr>\n",
       "    <tr>\n",
       "      <th>Date</th>\n",
       "      <th></th>\n",
       "      <th></th>\n",
       "    </tr>\n",
       "  </thead>\n",
       "  <tbody>\n",
       "    <tr>\n",
       "      <th>2018-11-01</th>\n",
       "      <td>4017.268555</td>\n",
       "      <td>2760.169922</td>\n",
       "    </tr>\n",
       "    <tr>\n",
       "      <th>2018-12-01</th>\n",
       "      <td>3742.700439</td>\n",
       "      <td>2506.850098</td>\n",
       "    </tr>\n",
       "    <tr>\n",
       "      <th>2019-01-01</th>\n",
       "      <td>3457.792725</td>\n",
       "      <td>2704.100098</td>\n",
       "    </tr>\n",
       "    <tr>\n",
       "      <th>2019-02-01</th>\n",
       "      <td>3854.785400</td>\n",
       "      <td>2784.489990</td>\n",
       "    </tr>\n",
       "    <tr>\n",
       "      <th>2019-03-01</th>\n",
       "      <td>4105.404297</td>\n",
       "      <td>2834.399902</td>\n",
       "    </tr>\n",
       "    <tr>\n",
       "      <th>...</th>\n",
       "      <td>...</td>\n",
       "      <td>...</td>\n",
       "    </tr>\n",
       "    <tr>\n",
       "      <th>2023-07-01</th>\n",
       "      <td>29230.111328</td>\n",
       "      <td>4588.959961</td>\n",
       "    </tr>\n",
       "    <tr>\n",
       "      <th>2023-08-01</th>\n",
       "      <td>25931.472656</td>\n",
       "      <td>4507.660156</td>\n",
       "    </tr>\n",
       "    <tr>\n",
       "      <th>2023-09-01</th>\n",
       "      <td>26967.916016</td>\n",
       "      <td>4288.049805</td>\n",
       "    </tr>\n",
       "    <tr>\n",
       "      <th>2023-10-01</th>\n",
       "      <td>29682.949219</td>\n",
       "      <td>4224.160156</td>\n",
       "    </tr>\n",
       "    <tr>\n",
       "      <th>2023-10-23</th>\n",
       "      <td>31182.548828</td>\n",
       "      <td>NaN</td>\n",
       "    </tr>\n",
       "  </tbody>\n",
       "</table>\n",
       "<p>61 rows × 2 columns</p>\n",
       "</div>"
      ],
      "text/plain": [
       "                     BTC          SPX\n",
       "Date                                 \n",
       "2018-11-01   4017.268555  2760.169922\n",
       "2018-12-01   3742.700439  2506.850098\n",
       "2019-01-01   3457.792725  2704.100098\n",
       "2019-02-01   3854.785400  2784.489990\n",
       "2019-03-01   4105.404297  2834.399902\n",
       "...                  ...          ...\n",
       "2023-07-01  29230.111328  4588.959961\n",
       "2023-08-01  25931.472656  4507.660156\n",
       "2023-09-01  26967.916016  4288.049805\n",
       "2023-10-01  29682.949219  4224.160156\n",
       "2023-10-23  31182.548828          NaN\n",
       "\n",
       "[61 rows x 2 columns]"
      ]
     },
     "execution_count": 33,
     "metadata": {},
     "output_type": "execute_result"
    }
   ],
   "source": [
    "prices"
   ]
  },
  {
   "cell_type": "code",
   "execution_count": 24,
   "id": "f9148eef-1b58-45ed-bee7-845868ad6aca",
   "metadata": {},
   "outputs": [],
   "source": [
    "returns = prices.pct_change()\n",
    "returns = returns.dropna()"
   ]
  },
  {
   "cell_type": "code",
   "execution_count": 28,
   "id": "e1f938ef-45bb-48c5-923e-6e8297835a0a",
   "metadata": {},
   "outputs": [
    {
     "data": {
      "text/plain": [
       "<AxesSubplot: xlabel='Date'>"
      ]
     },
     "execution_count": 28,
     "metadata": {},
     "output_type": "execute_result"
    },
    {
     "data": {
      "image/png": "[encoded data removed]",
      "text/plain": [
       "<Figure size 640x480 with 1 Axes>"
      ]
     },
     "metadata": {},
     "output_type": "display_data"
    }
   ],
   "source": [
    "returns.plot.line()"
   ]
  },
  {
   "cell_type": "code",
   "execution_count": 27,
   "id": "28d6082e-d8f5-4d5e-9269-a3d389ff8afa",
   "metadata": {},
   "outputs": [
    {
     "data": {
      "text/plain": [
       "BTC    0.206017\n",
       "SPX    0.053881\n",
       "dtype: float64"
      ]
     },
     "execution_count": 27,
     "metadata": {},
     "output_type": "execute_result"
    }
   ],
   "source": [
    "volatility = returns.std()\n",
    "volatility"
   ]
  },
  {
   "cell_type": "code",
   "execution_count": 30,
   "id": "84c47a45-3986-47cd-89eb-9905a5ab7c6d",
   "metadata": {},
   "outputs": [
    {
     "data": {
      "text/plain": [
       "BTC    0.713665\n",
       "SPX    0.186649\n",
       "dtype: float64"
      ]
     },
     "execution_count": 30,
     "metadata": {},
     "output_type": "execute_result"
    }
   ],
   "source": [
    "annualized_vol = volatility * np.sqrt(12)\n",
    "annualized_vol"
   ]
  },
  {
   "cell_type": "code",
   "execution_count": 31,
   "id": "ad35ac4a-e70e-48d3-99dc-c328d1fa504b",
   "metadata": {},
   "outputs": [
    {
     "data": {
      "text/plain": [
       "BTC    0.506594\n",
       "SPX    0.088832\n",
       "dtype: float64"
      ]
     },
     "execution_count": 31,
     "metadata": {},
     "output_type": "execute_result"
    }
   ],
   "source": [
    "annualized_return = (returns + 1).prod() ** (12/returns.shape[0]) - 1\n",
    "annualized_return"
   ]
  },
  {
   "cell_type": "code",
   "execution_count": 32,
   "id": "026741cc-49c9-4f51-86ff-0f78a676826e",
   "metadata": {},
   "outputs": [
    {
     "data": {
      "text/plain": [
       "BTC    0.709849\n",
       "SPX    0.475930\n",
       "dtype: float64"
      ]
     },
     "execution_count": 32,
     "metadata": {},
     "output_type": "execute_result"
    }
   ],
   "source": [
    "annualized_return/annualized_vol"
   ]
  },
  {
   "cell_type": "code",
   "execution_count": 36,
   "id": "b0f5d405-05a2-48e3-babd-5e658c6d731d",
   "metadata": {},
   "outputs": [],
   "source": [
    "tnx = pd.read_csv(\"data/tnx_monthly_5year.csv\", parse_dates=True)"
   ]
  },
  {
   "cell_type": "code",
   "execution_count": 37,
   "id": "cabaefd8-3aad-4e13-bdfe-fcce8d7e48a8",
   "metadata": {},
   "outputs": [
    {
     "data": {
      "text/html": [
       "<div>\n",
       "<style scoped>\n",
       "    .dataframe tbody tr th:only-of-type {\n",
       "        vertical-align: middle;\n",
       "    }\n",
       "\n",
       "    .dataframe tbody tr th {\n",
       "        vertical-align: top;\n",
       "    }\n",
       "\n",
       "    .dataframe thead th {\n",
       "        text-align: right;\n",
       "    }\n",
       "</style>\n",
       "<table border=\"1\" class=\"dataframe\">\n",
       "  <thead>\n",
       "    <tr style=\"text-align: right;\">\n",
       "      <th></th>\n",
       "      <th>Date</th>\n",
       "      <th>Open</th>\n",
       "      <th>High</th>\n",
       "      <th>Low</th>\n",
       "      <th>Close</th>\n",
       "      <th>Adj Close</th>\n",
       "      <th>Volume</th>\n",
       "    </tr>\n",
       "  </thead>\n",
       "  <tbody>\n",
       "    <tr>\n",
       "      <th>0</th>\n",
       "      <td>2018-11-01</td>\n",
       "      <td>3.164</td>\n",
       "      <td>3.239</td>\n",
       "      <td>3.008</td>\n",
       "      <td>3.013</td>\n",
       "      <td>3.013</td>\n",
       "      <td>0</td>\n",
       "    </tr>\n",
       "    <tr>\n",
       "      <th>1</th>\n",
       "      <td>2018-12-01</td>\n",
       "      <td>3.041</td>\n",
       "      <td>3.041</td>\n",
       "      <td>2.679</td>\n",
       "      <td>2.686</td>\n",
       "      <td>2.686</td>\n",
       "      <td>0</td>\n",
       "    </tr>\n",
       "    <tr>\n",
       "      <th>2</th>\n",
       "      <td>2019-01-01</td>\n",
       "      <td>2.652</td>\n",
       "      <td>2.799</td>\n",
       "      <td>2.554</td>\n",
       "      <td>2.635</td>\n",
       "      <td>2.635</td>\n",
       "      <td>0</td>\n",
       "    </tr>\n",
       "    <tr>\n",
       "      <th>3</th>\n",
       "      <td>2019-02-01</td>\n",
       "      <td>2.631</td>\n",
       "      <td>2.734</td>\n",
       "      <td>2.625</td>\n",
       "      <td>2.711</td>\n",
       "      <td>2.711</td>\n",
       "      <td>0</td>\n",
       "    </tr>\n",
       "    <tr>\n",
       "      <th>4</th>\n",
       "      <td>2019-03-01</td>\n",
       "      <td>2.737</td>\n",
       "      <td>2.759</td>\n",
       "      <td>2.356</td>\n",
       "      <td>2.414</td>\n",
       "      <td>2.414</td>\n",
       "      <td>0</td>\n",
       "    </tr>\n",
       "  </tbody>\n",
       "</table>\n",
       "</div>"
      ],
      "text/plain": [
       "         Date   Open   High    Low  Close  Adj Close  Volume\n",
       "0  2018-11-01  3.164  3.239  3.008  3.013      3.013       0\n",
       "1  2018-12-01  3.041  3.041  2.679  2.686      2.686       0\n",
       "2  2019-01-01  2.652  2.799  2.554  2.635      2.635       0\n",
       "3  2019-02-01  2.631  2.734  2.625  2.711      2.711       0\n",
       "4  2019-03-01  2.737  2.759  2.356  2.414      2.414       0"
      ]
     },
     "execution_count": 37,
     "metadata": {},
     "output_type": "execute_result"
    }
   ],
   "source": [
    "tnx.head()"
   ]
  },
  {
   "cell_type": "code",
   "execution_count": 41,
   "id": "a14b8bdc-41b4-41d0-bea1-b5c1b5b95332",
   "metadata": {},
   "outputs": [],
   "source": [
    "risk_free_rate = tnx['Close']"
   ]
  },
  {
   "cell_type": "code",
   "execution_count": 43,
   "id": "17a47878-e765-47b2-9494-ef994f453a1f",
   "metadata": {},
   "outputs": [],
   "source": [
    "risk_free_rate = risk_free_rate / 100"
   ]
  },
  {
   "cell_type": "code",
   "execution_count": 67,
   "id": "911b7544-b9ce-4699-867a-4c78b7f93f24",
   "metadata": {},
   "outputs": [],
   "source": [
    "rF = risk_free_rate.mean()"
   ]
  },
  {
   "cell_type": "code",
   "execution_count": 69,
   "id": "44c90c51-8565-49e8-8ab9-d458e54b5b9e",
   "metadata": {},
   "outputs": [],
   "source": [
    "excess_return = annualized_return - rF"
   ]
  },
  {
   "cell_type": "code",
   "execution_count": 70,
   "id": "328bd9f0-fed9-40cd-b5eb-cf8789e37d0e",
   "metadata": {},
   "outputs": [
    {
     "data": {
      "text/plain": [
       "BTC    0.484374\n",
       "SPX    0.066613\n",
       "dtype: float64"
      ]
     },
     "execution_count": 70,
     "metadata": {},
     "output_type": "execute_result"
    }
   ],
   "source": [
    "excess_return"
   ]
  },
  {
   "cell_type": "code",
   "execution_count": 71,
   "id": "fe8e0339-3318-4751-b618-eda56c94a96b",
   "metadata": {},
   "outputs": [],
   "source": [
    "sharpe_ratio = excess_return/annualized_vol"
   ]
  },
  {
   "cell_type": "code",
   "execution_count": 72,
   "id": "ba050bdc-083c-488d-a28f-cf792f55fe8d",
   "metadata": {},
   "outputs": [
    {
     "data": {
      "text/plain": [
       "BTC    0.678714\n",
       "SPX    0.356887\n",
       "dtype: float64"
      ]
     },
     "execution_count": 72,
     "metadata": {},
     "output_type": "execute_result"
    }
   ],
   "source": [
    "sharpe_ratio"
   ]
  },
  {
   "cell_type": "markdown",
   "id": "1427aeb3-b7c9-4eef-ac18-3226ed14b32d",
   "metadata": {},
   "source": [
    "## MAX DRAWDOWN"
   ]
  },
  {
   "cell_type": "code",
   "execution_count": null,
   "id": "b53a8902-8483-42bb-b89e-c9f9b6929a34",
   "metadata": {},
   "outputs": [],
   "source": []
  }
 ],
 "metadata": {
  "kernelspec": {
   "display_name": "Python 3 (ipykernel)",
   "language": "python",
   "name": "python3"
  },
  "language_info": {
   "codemirror_mode": {
    "name": "ipython",
    "version": 3
   },
   "file_extension": ".py",
   "mimetype": "text/x-python",
   "name": "python",
   "nbconvert_exporter": "python",
   "pygments_lexer": "ipython3",
   "version": "3.9.16"
  }
 },
 "nbformat": 4,
 "nbformat_minor": 5
}
