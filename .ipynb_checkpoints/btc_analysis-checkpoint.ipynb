{
 "cells": [
  {
   "cell_type": "code",
   "execution_count": 1,
   "id": "eeef4de5-4d50-4de3-8612-e722625bdb06",
   "metadata": {},
   "outputs": [],
   "source": [
    "import pandas as pd"
   ]
  },
  {
   "cell_type": "code",
   "execution_count": 2,
   "id": "e1e89777-d4b8-4c17-8d59-4d88d083c04c",
   "metadata": {},
   "outputs": [],
   "source": [
    "btc_prices = pd.read_csv(\"btc_price.csv\")"
   ]
  },
  {
   "cell_type": "code",
   "execution_count": 3,
   "id": "744091ed-b1e1-4dd3-bc63-ab9e010e1217",
   "metadata": {},
   "outputs": [
    {
     "data": {
      "text/html": [
       "<div>\n",
       "<style scoped>\n",
       "    .dataframe tbody tr th:only-of-type {\n",
       "        vertical-align: middle;\n",
       "    }\n",
       "\n",
       "    .dataframe tbody tr th {\n",
       "        vertical-align: top;\n",
       "    }\n",
       "\n",
       "    .dataframe thead th {\n",
       "        text-align: right;\n",
       "    }\n",
       "</style>\n",
       "<table border=\"1\" class=\"dataframe\">\n",
       "  <thead>\n",
       "    <tr style=\"text-align: right;\">\n",
       "      <th></th>\n",
       "      <th>Date</th>\n",
       "      <th>Close/Last</th>\n",
       "      <th>Volume</th>\n",
       "      <th>Open</th>\n",
       "      <th>High</th>\n",
       "      <th>Low</th>\n",
       "    </tr>\n",
       "  </thead>\n",
       "  <tbody>\n",
       "    <tr>\n",
       "      <th>0</th>\n",
       "      <td>10/22/2023</td>\n",
       "      <td>30601.0</td>\n",
       "      <td>NaN</td>\n",
       "      <td>29906.2</td>\n",
       "      <td>30772.2</td>\n",
       "      <td>29891.4</td>\n",
       "    </tr>\n",
       "    <tr>\n",
       "      <th>1</th>\n",
       "      <td>10/21/2023</td>\n",
       "      <td>29895.3</td>\n",
       "      <td>NaN</td>\n",
       "      <td>29607.9</td>\n",
       "      <td>30057.2</td>\n",
       "      <td>29848.0</td>\n",
       "    </tr>\n",
       "    <tr>\n",
       "      <th>2</th>\n",
       "      <td>10/20/2023</td>\n",
       "      <td>29605.2</td>\n",
       "      <td>NaN</td>\n",
       "      <td>29243.2</td>\n",
       "      <td>29693.8</td>\n",
       "      <td>29469.1</td>\n",
       "    </tr>\n",
       "    <tr>\n",
       "      <th>3</th>\n",
       "      <td>10/19/2023</td>\n",
       "      <td>29168.2</td>\n",
       "      <td>NaN</td>\n",
       "      <td>28253.1</td>\n",
       "      <td>29383.2</td>\n",
       "      <td>28586.1</td>\n",
       "    </tr>\n",
       "    <tr>\n",
       "      <th>4</th>\n",
       "      <td>10/18/2023</td>\n",
       "      <td>28260.0</td>\n",
       "      <td>NaN</td>\n",
       "      <td>28519.4</td>\n",
       "      <td>28416.8</td>\n",
       "      <td>28170.2</td>\n",
       "    </tr>\n",
       "  </tbody>\n",
       "</table>\n",
       "</div>"
      ],
      "text/plain": [
       "         Date  Close/Last  Volume     Open     High      Low\n",
       "0  10/22/2023     30601.0     NaN  29906.2  30772.2  29891.4\n",
       "1  10/21/2023     29895.3     NaN  29607.9  30057.2  29848.0\n",
       "2  10/20/2023     29605.2     NaN  29243.2  29693.8  29469.1\n",
       "3  10/19/2023     29168.2     NaN  28253.1  29383.2  28586.1\n",
       "4  10/18/2023     28260.0     NaN  28519.4  28416.8  28170.2"
      ]
     },
     "execution_count": 3,
     "metadata": {},
     "output_type": "execute_result"
    }
   ],
   "source": [
    "btc_prices.head()"
   ]
  },
  {
   "cell_type": "code",
   "execution_count": 4,
   "id": "a434662a-64be-414c-910a-a175503770fe",
   "metadata": {},
   "outputs": [],
   "source": [
    "spx_prices = pd.read_csv(\"spx_prices.csv\")"
   ]
  },
  {
   "cell_type": "code",
   "execution_count": 12,
   "id": "ab4b3936-6ea4-4792-bf97-e2f526379a43",
   "metadata": {},
   "outputs": [
    {
     "data": {
      "text/html": [
       "<div>\n",
       "<style scoped>\n",
       "    .dataframe tbody tr th:only-of-type {\n",
       "        vertical-align: middle;\n",
       "    }\n",
       "\n",
       "    .dataframe tbody tr th {\n",
       "        vertical-align: top;\n",
       "    }\n",
       "\n",
       "    .dataframe thead th {\n",
       "        text-align: right;\n",
       "    }\n",
       "</style>\n",
       "<table border=\"1\" class=\"dataframe\">\n",
       "  <thead>\n",
       "    <tr style=\"text-align: right;\">\n",
       "      <th></th>\n",
       "      <th>Date</th>\n",
       "      <th>Close/Last</th>\n",
       "      <th>Open</th>\n",
       "      <th>High</th>\n",
       "      <th>Low</th>\n",
       "    </tr>\n",
       "  </thead>\n",
       "  <tbody>\n",
       "    <tr>\n",
       "      <th>0</th>\n",
       "      <td>10/20/2023</td>\n",
       "      <td>4224.16</td>\n",
       "      <td>4273.85</td>\n",
       "      <td>4276.56</td>\n",
       "      <td>4223.03</td>\n",
       "    </tr>\n",
       "    <tr>\n",
       "      <th>1</th>\n",
       "      <td>10/19/2023</td>\n",
       "      <td>4278.00</td>\n",
       "      <td>4321.36</td>\n",
       "      <td>4339.54</td>\n",
       "      <td>4269.69</td>\n",
       "    </tr>\n",
       "    <tr>\n",
       "      <th>2</th>\n",
       "      <td>10/18/2023</td>\n",
       "      <td>4314.60</td>\n",
       "      <td>4357.35</td>\n",
       "      <td>4364.20</td>\n",
       "      <td>4303.84</td>\n",
       "    </tr>\n",
       "    <tr>\n",
       "      <th>3</th>\n",
       "      <td>10/17/2023</td>\n",
       "      <td>4373.20</td>\n",
       "      <td>4345.23</td>\n",
       "      <td>4393.57</td>\n",
       "      <td>4337.54</td>\n",
       "    </tr>\n",
       "    <tr>\n",
       "      <th>4</th>\n",
       "      <td>10/16/2023</td>\n",
       "      <td>4373.63</td>\n",
       "      <td>4342.37</td>\n",
       "      <td>4383.33</td>\n",
       "      <td>4342.37</td>\n",
       "    </tr>\n",
       "  </tbody>\n",
       "</table>\n",
       "</div>"
      ],
      "text/plain": [
       "         Date  Close/Last     Open     High      Low\n",
       "0  10/20/2023     4224.16  4273.85  4276.56  4223.03\n",
       "1  10/19/2023     4278.00  4321.36  4339.54  4269.69\n",
       "2  10/18/2023     4314.60  4357.35  4364.20  4303.84\n",
       "3  10/17/2023     4373.20  4345.23  4393.57  4337.54\n",
       "4  10/16/2023     4373.63  4342.37  4383.33  4342.37"
      ]
     },
     "execution_count": 12,
     "metadata": {},
     "output_type": "execute_result"
    }
   ],
   "source": [
    "spx_prices.head()"
   ]
  },
  {
   "cell_type": "code",
   "execution_count": null,
   "id": "944a5915-638b-42af-928a-bf1c393659ee",
   "metadata": {},
   "outputs": [],
   "source": [
    "btc_prices = btc_prices['Close/Last']\n"
   ]
  },
  {
   "cell_type": "code",
   "execution_count": 8,
   "id": "c3bd5892-d937-47c8-a0c3-c065ab79098b",
   "metadata": {},
   "outputs": [
    {
     "data": {
      "text/plain": [
       "0    30601.0\n",
       "1    29895.3\n",
       "2    29605.2\n",
       "3    29168.2\n",
       "4    28260.0\n",
       "Name: Close/Last, dtype: float64"
      ]
     },
     "execution_count": 8,
     "metadata": {},
     "output_type": "execute_result"
    }
   ],
   "source": [
    "btc_prices.head()"
   ]
  },
  {
   "cell_type": "code",
   "execution_count": 10,
   "id": "e519975d-2293-4059-957b-68867b69467d",
   "metadata": {},
   "outputs": [
    {
     "data": {
      "text/plain": [
       "(1619,)"
      ]
     },
     "execution_count": 10,
     "metadata": {},
     "output_type": "execute_result"
    }
   ],
   "source": [
    "btc_prices.shape"
   ]
  },
  {
   "cell_type": "code",
   "execution_count": 14,
   "id": "3f811768-d3d1-4678-82f4-8bd206f7b674",
   "metadata": {},
   "outputs": [],
   "source": [
    "spx_prices = spx_prices['Close/Last']"
   ]
  },
  {
   "cell_type": "code",
   "execution_count": 15,
   "id": "f9fc31e1-3a51-4fb1-bd0b-69b864526fc7",
   "metadata": {},
   "outputs": [
    {
     "data": {
      "text/plain": [
       "0    4224.16\n",
       "1    4278.00\n",
       "2    4314.60\n",
       "3    4373.20\n",
       "4    4373.63\n",
       "Name: Close/Last, dtype: float64"
      ]
     },
     "execution_count": 15,
     "metadata": {},
     "output_type": "execute_result"
    }
   ],
   "source": [
    "spx_prices.head()"
   ]
  },
  {
   "cell_type": "code",
   "execution_count": 16,
   "id": "bb12dae0-15d1-46d9-a6b8-8e8ab8d17037",
   "metadata": {},
   "outputs": [
    {
     "data": {
      "text/plain": [
       "(1257,)"
      ]
     },
     "execution_count": 16,
     "metadata": {},
     "output_type": "execute_result"
    }
   ],
   "source": [
    "spx_prices.shape"
   ]
  },
  {
   "cell_type": "code",
   "execution_count": 17,
   "id": "d3b46bc1-1efa-488d-a288-ce8fc5965d4c",
   "metadata": {},
   "outputs": [],
   "source": [
    "btc_price_delta = btc_prices.pct_change()"
   ]
  },
  {
   "cell_type": "code",
   "execution_count": 18,
   "id": "1635c4e9-bcf1-4fa4-a62a-d023525f6b19",
   "metadata": {},
   "outputs": [],
   "source": [
    "spx_price_delta = spx_prices.pct_change()"
   ]
  },
  {
   "cell_type": "code",
   "execution_count": 19,
   "id": "4abd76b9-c560-4bec-a03b-752a2d0e5683",
   "metadata": {},
   "outputs": [
    {
     "data": {
      "text/plain": [
       "0         NaN\n",
       "1   -0.023061\n",
       "2   -0.009704\n",
       "3   -0.014761\n",
       "4   -0.031137\n",
       "Name: Close/Last, dtype: float64"
      ]
     },
     "execution_count": 19,
     "metadata": {},
     "output_type": "execute_result"
    }
   ],
   "source": [
    "btc_price_delta.head()"
   ]
  },
  {
   "cell_type": "code",
   "execution_count": 20,
   "id": "a86d18ea-656b-4a7d-8c7f-b1f6fde6698b",
   "metadata": {},
   "outputs": [
    {
     "data": {
      "text/plain": [
       "0         NaN\n",
       "1    0.012746\n",
       "2    0.008555\n",
       "3    0.013582\n",
       "4    0.000098\n",
       "Name: Close/Last, dtype: float64"
      ]
     },
     "execution_count": 20,
     "metadata": {},
     "output_type": "execute_result"
    }
   ],
   "source": [
    "spx_price_delta.head()"
   ]
  },
  {
   "cell_type": "code",
   "execution_count": null,
   "id": "24644ca8-0d3e-4ea6-a16e-5dae636b549e",
   "metadata": {},
   "outputs": [],
   "source": []
  }
 ],
 "metadata": {
  "kernelspec": {
   "display_name": "Python 3 (ipykernel)",
   "language": "python",
   "name": "python3"
  },
  "language_info": {
   "codemirror_mode": {
    "name": "ipython",
    "version": 3
   },
   "file_extension": ".py",
   "mimetype": "text/x-python",
   "name": "python",
   "nbconvert_exporter": "python",
   "pygments_lexer": "ipython3",
   "version": "3.9.16"
  }
 },
 "nbformat": 4,
 "nbformat_minor": 5
}
